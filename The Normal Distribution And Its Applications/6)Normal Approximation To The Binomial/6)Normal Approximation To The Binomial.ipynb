{
 "cells": [
  {
   "cell_type": "markdown",
   "id": "f57ac0c6-eef7-4175-bc62-5602e2fac61f",
   "metadata": {},
   "source": [
    "# Normal Appproximation To The Binomial\n",
    "\n",
    "The normal distribution provides a close approximation to the Binomial distribution when n, which is the number of the trials, is large and p, which is the probability of success on the given trial, or 1-p is small. We can calculate the mean μ and standard deviation σ of X, which is a random variable, by using the following formulas:  "
   ]
  },
  {
   "cell_type": "markdown",
   "id": "2d9ae343-b8be-4b42-b43b-b5aa874d10f4",
   "metadata": {},
   "source": [
    "$μ = np$"
   ]
  },
  {
   "cell_type": "markdown",
   "id": "08b029e9-91f4-46a5-b025-e24e3526fa6d",
   "metadata": {
    "tags": []
   },
   "source": [
    "$σ^2 = np(1-p)$"
   ]
  },
  {
   "cell_type": "markdown",
   "id": "96d9462b-245e-4c43-a7e6-f6396d7f7225",
   "metadata": {},
   "source": [
    "If n is sufficiently large, then we can actually use the normal distribution to approximate the probabilities that is related to the binomial distribution. This is known as the normal approximation to the binomial."
   ]
  },
  {
   "cell_type": "markdown",
   "id": "a1c9d858-9ba1-42e7-8466-dc6359838cb3",
   "metadata": {
    "tags": []
   },
   "source": [
    "The shape of the binomial distribution has to be similar to the shape of the normal distribution."
   ]
  },
  {
   "cell_type": "markdown",
   "id": "4c08ce6e-1f5c-41fa-879e-8f1746582332",
   "metadata": {
    "tags": []
   },
   "source": [
    "If n is sufficiently large, then we have to know the following criteria:\n",
    "\n",
    "$np \\geq 5$\n",
    "\n",
    "$n(1-p)\\geq 5$"
   ]
  },
  {
   "cell_type": "markdown",
   "id": "03ccbeac-7211-47db-862f-72a98fa69743",
   "metadata": {},
   "source": [
    "For example, if we want to know the probability that the coin lands on heads less than or equal to 37 times during 100 flips, then "
   ]
  },
  {
   "cell_type": "code",
   "execution_count": 34,
   "id": "1e61b26e-1a3f-4231-a7f4-98de3955030e",
   "metadata": {
    "tags": []
   },
   "outputs": [
    {
     "name": "stdout",
     "output_type": "stream",
     "text": [
      "The probability of getting 37 or fewer heads in 100 flips is 0.0047\n"
     ]
    }
   ],
   "source": [
    "import scipy.stats as stats\n",
    "\n",
    "n = 100  # the number of the trials\n",
    "p = 0.5  # the probability of success on the given trial\n",
    "X = 37  # the number of heads\n",
    "\n",
    "# Mean and standard deviation of the binomial distribution\n",
    "mu = n * p\n",
    "\n",
    "sigma = (n * p * (1 - p)) ** (1/2)\n",
    "\n",
    "z_score = (X - mu) / sigma   # the z-score for X\n",
    "\n",
    "cumulative_prob = stats.norm.cdf(z_score)   # the cumulative probability for the z-score\n",
    "\n",
    "print(f'The probability of getting 37 or fewer heads in 100 flips is {cumulative_prob:.4f}')"
   ]
  },
  {
   "cell_type": "markdown",
   "id": "1b1db301-e2f5-4611-90f5-3121cb540d81",
   "metadata": {},
   "source": [
    "Note that the normal distribution is a continuous probability distribution; on the other hand, the binomial distribution is a discrete probability distribution. This means that the binomial distribution has a finite amount of events, whereas the normal distribution has an infinite number of events. In case, if the sample size for the binomial distribution is very large, then the distribution curve for the binomial distribution is similar to the normal distribution curve. As a consequence, we have to implement a continuity correction when we calculate the probabilities."
   ]
  },
  {
   "cell_type": "markdown",
   "id": "1c132b15-35a8-4d60-872d-18bbcf279490",
   "metadata": {},
   "source": [
    "For a binomial distribution X∼Bin(n,p), if n is large, then X can be approximated by a normal distribution N(μ,$σ^2$)."
   ]
  },
  {
   "cell_type": "markdown",
   "id": "af0c0eb2-d651-4bdb-822b-9196b25c8130",
   "metadata": {},
   "source": [
    "For example, 57% of 9th graders attend school in a particular urban school district. If a sample of 473 9th grade children are selected, find the probability that at least 273 are actually enrolled in school."
   ]
  },
  {
   "cell_type": "code",
   "execution_count": 49,
   "id": "46a78133-3678-438d-af53-b05fa524cdad",
   "metadata": {
    "tags": []
   },
   "outputs": [
    {
     "name": "stdout",
     "output_type": "stream",
     "text": [
      "The probability that at least 273 students are enrolled in school is 0.3764\n"
     ]
    }
   ],
   "source": [
    "import scipy.stats as stats\n",
    "import numpy as np\n",
    "\n",
    "n = 473  # the sample size\n",
    "p = 0.57  # the probability of success\n",
    "\n",
    "X = 273  # the number of students to check the probability for\n",
    "\n",
    "# Mean and standard deviation for the binomial distribution\n",
    "mu = n * p\n",
    "sigma = np.sqrt(n * p * (1 - p))\n",
    "\n",
    "# Calculation of the z-score for X\n",
    "z_score = (X - mu) / sigma\n",
    "\n",
    "# Calculation of the cumulative probability for the z-score\n",
    "cumulative_prob = stats.norm.cdf(z_score)\n",
    "\n",
    "# Since we want at least 273 students, we need the complement.\n",
    "probability_at_least_273 = 1 - cumulative_prob\n",
    "\n",
    "print(f'The probability that at least 273 students are enrolled in school is {probability_at_least_273:.4f}')"
   ]
  },
  {
   "cell_type": "markdown",
   "id": "85b75908-fb09-42a2-84f3-0b79ec0e7329",
   "metadata": {
    "tags": []
   },
   "source": [
    "When we use the normal approximation to estimate probabilities, we need to make continuity corrections as follows:\n",
    "\n",
    "1)When we estimate the probability of the form P(X=a), we can calculate the probability over the unit interval which is centered on a; in fact, P(a−0.5<X<a+0.5).\n",
    "\n",
    "2)When we estimate the probability of the form P(X<a), we can evaluate the probability P(X<a-0.5) to exclude a. \n",
    "\n",
    "3)When we estimate the probability of the form P(X≤a), we can evaluate the probability P(X<a+0.5) to include a."
   ]
  }
 ],
 "metadata": {
  "kernelspec": {
   "display_name": "Python 3 (ipykernel)",
   "language": "python",
   "name": "python3"
  },
  "language_info": {
   "codemirror_mode": {
    "name": "ipython",
    "version": 3
   },
   "file_extension": ".py",
   "mimetype": "text/x-python",
   "name": "python",
   "nbconvert_exporter": "python",
   "pygments_lexer": "ipython3",
   "version": "3.11.5"
  }
 },
 "nbformat": 4,
 "nbformat_minor": 5
}
