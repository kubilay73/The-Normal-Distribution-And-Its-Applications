{
 "cells": [
  {
   "cell_type": "markdown",
   "id": "d9106f15-7dca-420b-8b1f-2174aa24ded5",
   "metadata": {},
   "source": [
    "# THE HISTORY OF THE NORMAL DISTRIBUTION\n",
    "   \n",
    "   The origin of the normal distribution was introduced by Abraham de Moivre (1647-1754) in 1733. He was interested in gambling, so he generally acted as a consultant to gamblers to determine probabilities. He studied the probability distribution of coin flips. He wanted to come up with the mathematical expression such as finding the probability of 600 or more heads after tossing a coin 1000 times. Then, he derived a bell shape distribution, which can be referred to as a normal curve. It has many applications of measurements. For instance, it is very useful for the work of observing the movements of planets and stars. Furthermore, it approximates all sorts of raw score distributions like IQ scores for a given population. Because he worked out the areas under the normal curve and the formula for it, he is duly credited with the discovery of it. However, it could be popularized by other mathematicians. Also, in his work, the normal curve formula did not look like it does now  because there was no notation for e, and there was no general sense of standard deviation, which is represented by σ in equation now. \n",
    "                           \n",
    "   The idea of it was extended even further by the French mathematician Pierre Laplace (1749-1827). He was also interested in astronomy and philosophy. It was him who first posed the problem of the aggregating several observations of the normal distribution in 1774, and calculated the value of the integral $\\int e^{-t^2} \\, dt = \\sqrt{\\pi}$ in 1782 that provides the normalization constant for it. He proved and presented to the  fundamental Central Limit Theorem that is a single most important theorem in statistics in 1810 and emphasized the theoretical importance of the normal distribution. He showed that even if a distribution is not normally distributed, the means of repeated samples from the distribution can be very nearly normally distributed. In addition, if the sample size is larger, the distribution of means can be closer to the normal distribution in this case. It enables people to use sample distributions in hypothesis testing and the normal distribution to figure the possibility of getting a mean by chance.\n",
    "\n",
    "   The German mathematician Carl Gauss (1777-1855) also popularized the normal distribution. He deduced the shape of the normal curve while he was studying how data is affected by random errors. In 1809, he published his monograph \"Theoria motus corporum coelestium insectionibus conicis solem ambientium\", where he introduces several important statistical concepts such as the method of the normal distribution. He himself apparently coined the term with the reference to the \"normal equations\", which was involved in its applications, with normal having its technical meaning of orthogonal rather than \"usual\". While most mathematicians refer to the normal curve simply as the normal distribution due to the fact that the word \"normal\" was used as an adjective and the term \"distribution\" was seen as common and typical, historians often use the term Gaussian curve as an example of Stigler’s Law of Eponymy, which states that no scientific discovery is named after its actual discoverer. "
   ]
  },
  {
   "cell_type": "markdown",
   "id": "1bff806e-2bf1-4035-ad09-a8d18b55012e",
   "metadata": {},
   "source": [
    "Galileo mentioned that the errors of measurement, which was made in astronomical observations due to imperfect instruments and imperfect observers, were symmetric and the small errors happened more frequently than large errors in the 17th century. It caused some hypothesized distributions of errors. However, it was not until the early 19th century that it was discovered that the errors followed the normal distribution. Two mathematicians Adrian in 1808 and Gauss in 1809 improved the formula for the normal distribution independent of each other. The formula showed that the errors were fit well by the distribution."
   ]
  },
  {
   "cell_type": "markdown",
   "id": "b70ddd1b-8939-40e8-a415-4dfc9d834007",
   "metadata": {},
   "source": [
    "Also, Pearson popularized the term \"normal\" as a designation for this distribution around the turn of the 20th century. He stated that the normal curve avoids the international question of priority, and has the disadvantage of causing people to believe that all other distributions of frequency are in one sense . In addition, it was Pearson who first wrote the distribution with respect to the standard deviation σ as in modern notation. In 1915, Fisher added the location parameter to the formula for normal distribution. He expressed it in the way that it is written today as $$df = \\frac{1}{\\sigma \\sqrt{2\\pi}}e^{-\\frac{(x - \\mu)^2}{2\\sigma^2}}dx$$"
   ]
  },
  {
   "cell_type": "markdown",
   "id": "000fc2a8-1513-448f-bf87-921e5aa9cba1",
   "metadata": {},
   "source": [
    ", where $\\sigma$ denotes the standard deviation, and $\\mu$ denotes the mean."
   ]
  },
  {
   "cell_type": "markdown",
   "id": "edc55cb6-92b1-4a58-b8e6-ba0d1f015299",
   "metadata": {},
   "source": [
    "The term \"standard normal\", which denotes the normal distribution with zero mean and variance one, came into general use in 1950s."
   ]
  },
  {
   "cell_type": "markdown",
   "id": "03311b61-68e8-4336-b2a0-5ce23f5961d3",
   "metadata": {},
   "source": [
    "Quételet was the first one to implement the normal distribution to human characteristics. He stated and noted that characteristics such as height and weight were normally distributed.\n"
   ]
  }
 ],
 "metadata": {
  "kernelspec": {
   "display_name": "Python 3 (ipykernel)",
   "language": "python",
   "name": "python3"
  },
  "language_info": {
   "codemirror_mode": {
    "name": "ipython",
    "version": 3
   },
   "file_extension": ".py",
   "mimetype": "text/x-python",
   "name": "python",
   "nbconvert_exporter": "python",
   "pygments_lexer": "ipython3",
   "version": "3.11.5"
  }
 },
 "nbformat": 4,
 "nbformat_minor": 5
}
